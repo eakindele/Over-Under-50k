{
 "cells": [
  {
   "cell_type": "markdown",
   "metadata": {},
   "source": [
    "# Table of Content\n",
    "\n",
    "1. [Data Import](#Data-Import)\n",
    "2. [Exploratory Data Analysis and Feature Extraction](#Exploratory-Data-Analysis-and-Feature-Extraction)\n",
    "3. [Modeling](#Modeling)\n",
    "4. [Creating the Submission](#Creating-the-Submission)"
   ]
  },
  {
   "cell_type": "markdown",
   "metadata": {},
   "source": [
    "## Data Import"
   ]
  },
  {
   "cell_type": "code",
   "execution_count": 1,
   "metadata": {},
   "outputs": [],
   "source": [
    "#Imports\n",
    "import time\n",
    "import numpy as np\n",
    "import pandas as pd\n",
    "import matplotlib.pyplot as plt\n",
    "import seaborn as sns\n",
    "\n",
    "from sklearn.model_selection import train_test_split, GridSearchCV\n",
    "from sklearn.metrics import confusion_matrix, plot_confusion_matrix\n",
    "from sklearn.pipeline import Pipeline\n",
    "from sklearn.ensemble import RandomForestClassifier"
   ]
  },
  {
   "cell_type": "code",
   "execution_count": 2,
   "metadata": {},
   "outputs": [],
   "source": [
    "#Settings\n",
    "pd.set_option('display.max_columns', None)\n",
    "pd.set_option('display.max_rows', 120)"
   ]
  },
  {
   "cell_type": "code",
   "execution_count": 3,
   "metadata": {},
   "outputs": [],
   "source": [
    "# Read in the csv data\n",
    "df = pd.read_csv('data/large_train_sample.csv')"
   ]
  },
  {
   "cell_type": "code",
   "execution_count": 4,
   "metadata": {},
   "outputs": [],
   "source": [
    "# Encoding the target column\n",
    "df['target'] = df.wage.map(lambda x: 1 if x==' >50K' else 0)\n",
    "# Dropping the old wage column\n",
    "df.drop('wage',axis=1,inplace=True)"
   ]
  },
  {
   "cell_type": "markdown",
   "metadata": {},
   "source": [
    "## Exploratory Data Analysis and Feature Extraction"
   ]
  },
  {
   "cell_type": "code",
   "execution_count": 5,
   "metadata": {},
   "outputs": [
    {
     "data": {
      "text/html": [
       "<div>\n",
       "<style scoped>\n",
       "    .dataframe tbody tr th:only-of-type {\n",
       "        vertical-align: middle;\n",
       "    }\n",
       "\n",
       "    .dataframe tbody tr th {\n",
       "        vertical-align: top;\n",
       "    }\n",
       "\n",
       "    .dataframe thead th {\n",
       "        text-align: right;\n",
       "    }\n",
       "</style>\n",
       "<table border=\"1\" class=\"dataframe\">\n",
       "  <thead>\n",
       "    <tr style=\"text-align: right;\">\n",
       "      <th></th>\n",
       "      <th>age</th>\n",
       "      <th>workclass</th>\n",
       "      <th>fnlwgt</th>\n",
       "      <th>education</th>\n",
       "      <th>education-num</th>\n",
       "      <th>marital-status</th>\n",
       "      <th>occupation</th>\n",
       "      <th>relationship</th>\n",
       "      <th>sex</th>\n",
       "      <th>capital-gain</th>\n",
       "      <th>capital-loss</th>\n",
       "      <th>hours-per-week</th>\n",
       "      <th>native-country</th>\n",
       "      <th>target</th>\n",
       "    </tr>\n",
       "  </thead>\n",
       "  <tbody>\n",
       "    <tr>\n",
       "      <th>0</th>\n",
       "      <td>39</td>\n",
       "      <td>State-gov</td>\n",
       "      <td>77516</td>\n",
       "      <td>Bachelors</td>\n",
       "      <td>13</td>\n",
       "      <td>Never-married</td>\n",
       "      <td>Adm-clerical</td>\n",
       "      <td>Not-in-family</td>\n",
       "      <td>Male</td>\n",
       "      <td>2174</td>\n",
       "      <td>0</td>\n",
       "      <td>40</td>\n",
       "      <td>United-States</td>\n",
       "      <td>0</td>\n",
       "    </tr>\n",
       "  </tbody>\n",
       "</table>\n",
       "</div>"
      ],
      "text/plain": [
       "   age   workclass  fnlwgt   education  education-num  marital-status  \\\n",
       "0   39   State-gov   77516   Bachelors             13   Never-married   \n",
       "\n",
       "      occupation    relationship    sex  capital-gain  capital-loss  \\\n",
       "0   Adm-clerical   Not-in-family   Male          2174             0   \n",
       "\n",
       "   hours-per-week  native-country  target  \n",
       "0              40   United-States       0  "
      ]
     },
     "execution_count": 5,
     "metadata": {},
     "output_type": "execute_result"
    }
   ],
   "source": [
    "df.head(1)"
   ]
  },
  {
   "cell_type": "code",
   "execution_count": 6,
   "metadata": {},
   "outputs": [
    {
     "name": "stdout",
     "output_type": "stream",
     "text": [
      "<class 'pandas.core.frame.DataFrame'>\n",
      "RangeIndex: 32561 entries, 0 to 32560\n",
      "Data columns (total 14 columns):\n",
      " #   Column          Non-Null Count  Dtype \n",
      "---  ------          --------------  ----- \n",
      " 0   age             32561 non-null  int64 \n",
      " 1   workclass       32561 non-null  object\n",
      " 2   fnlwgt          32561 non-null  int64 \n",
      " 3   education       32561 non-null  object\n",
      " 4   education-num   32561 non-null  int64 \n",
      " 5   marital-status  32561 non-null  object\n",
      " 6   occupation      32561 non-null  object\n",
      " 7   relationship    32561 non-null  object\n",
      " 8   sex             32561 non-null  object\n",
      " 9   capital-gain    32561 non-null  int64 \n",
      " 10  capital-loss    32561 non-null  int64 \n",
      " 11  hours-per-week  32561 non-null  int64 \n",
      " 12  native-country  32561 non-null  object\n",
      " 13  target          32561 non-null  int64 \n",
      "dtypes: int64(7), object(7)\n",
      "memory usage: 3.5+ MB\n"
     ]
    }
   ],
   "source": [
    "df.info()"
   ]
  },
  {
   "cell_type": "code",
   "execution_count": 7,
   "metadata": {},
   "outputs": [
    {
     "data": {
      "text/plain": [
       "native-country\n",
       " ?                             0.250429\n",
       " Cambodia                      0.368421\n",
       " Canada                        0.322314\n",
       " China                         0.266667\n",
       " Columbia                      0.033898\n",
       " Cuba                          0.263158\n",
       " Dominican-Republic            0.028571\n",
       " Ecuador                       0.142857\n",
       " El-Salvador                   0.084906\n",
       " England                       0.333333\n",
       " France                        0.413793\n",
       " Germany                       0.321168\n",
       " Greece                        0.275862\n",
       " Guatemala                     0.046875\n",
       " Haiti                         0.090909\n",
       " Holand-Netherlands            0.000000\n",
       " Honduras                      0.076923\n",
       " Hong                          0.300000\n",
       " Hungary                       0.230769\n",
       " India                         0.400000\n",
       " Iran                          0.418605\n",
       " Ireland                       0.208333\n",
       " Italy                         0.342466\n",
       " Jamaica                       0.123457\n",
       " Japan                         0.387097\n",
       " Laos                          0.111111\n",
       " Mexico                        0.051322\n",
       " Nicaragua                     0.058824\n",
       " Outlying-US(Guam-USVI-etc)    0.000000\n",
       " Peru                          0.064516\n",
       " Philippines                   0.308081\n",
       " Poland                        0.200000\n",
       " Portugal                      0.108108\n",
       " Puerto-Rico                   0.105263\n",
       " Scotland                      0.250000\n",
       " South                         0.200000\n",
       " Taiwan                        0.392157\n",
       " Thailand                      0.166667\n",
       " Trinadad&Tobago               0.105263\n",
       " United-States                 0.245835\n",
       " Vietnam                       0.074627\n",
       " Yugoslavia                    0.375000\n",
       "Name: target, dtype: float64"
      ]
     },
     "execution_count": 7,
     "metadata": {},
     "output_type": "execute_result"
    }
   ],
   "source": [
    "# An example of the analysis of various categories where a larger proportion of a category was more likely\n",
    "# to have a high wage\n",
    "df.groupby('native-country').mean()['target']"
   ]
  },
  {
   "cell_type": "code",
   "execution_count": 8,
   "metadata": {},
   "outputs": [
    {
     "data": {
      "text/plain": [
       "target\n",
       "0         0.75919\n",
       "1         0.24081\n",
       "dtype: float64"
      ]
     },
     "execution_count": 8,
     "metadata": {},
     "output_type": "execute_result"
    }
   ],
   "source": [
    "# Baseline score\n",
    "df[['target']].value_counts(normalize=True)"
   ]
  },
  {
   "cell_type": "code",
   "execution_count": 9,
   "metadata": {},
   "outputs": [],
   "source": [
    "# A function to create features based on the mean normalized value a category has\n",
    "# in the target column over a certain threshold\n",
    "def add_binary(df,header,column,threshold):\n",
    "        scores = df.groupby(df[column]).mean()\n",
    "        good_status = scores[scores['target'] > threshold].index\n",
    "        df[header] = df[column].map(lambda x: 1 if x in good_status else 0)\n",
    "        return print(f'Added {header} column')"
   ]
  },
  {
   "cell_type": "code",
   "execution_count": 10,
   "metadata": {},
   "outputs": [
    {
     "name": "stdout",
     "output_type": "stream",
     "text": [
      "Added educated column\n",
      "Added good_country column\n",
      "Added is_married column\n",
      "Added is_spouse column\n",
      "Added high_class column\n",
      "Added good_job column\n"
     ]
    }
   ],
   "source": [
    "# All the features add based on exploratory analysis using .groupby().mean()\n",
    "add_binary(df,'educated','education',0.24)\n",
    "add_binary(df,'good_country','native-country',0.25)\n",
    "add_binary(df,'is_married','marital-status',0.4)\n",
    "add_binary(df,'is_spouse','relationship',0.4)\n",
    "add_binary(df,'high_class','workclass',0.25)\n",
    "add_binary(df,'good_job','occupation',0.25)"
   ]
  },
  {
   "cell_type": "code",
   "execution_count": 11,
   "metadata": {},
   "outputs": [],
   "source": [
    "# Features based on participation in the stock market\n",
    "df['in_market'] = np.where((df['capital-gain'] > 0) | (df['capital-loss'] > 0), 1, 0)\n",
    "df['has_gains'] = np.where(df['capital-gain'] > 0, 1, 0)\n",
    "df['has_losses'] = np.where(df['capital-loss'] > 0, 1, 0)\n",
    "# Features based on time worked\n",
    "df['over_time'] = np.where(df['hours-per-week'] > 40, 1, 0)\n",
    "df['part_time'] = np.where(df['hours-per-week'] < 40, 1, 0)\n",
    "df['higher_ed'] = np.where(df['education-num'] >= 13, 1, 0)\n",
    "# Age constraints\n",
    "df['over_20'] = np.where(df['age'] >= 20, 1, 0)\n",
    "df['over_30'] = np.where(df['age'] >= 30, 1, 0)\n",
    "df['over_40'] = np.where(df['age'] >= 40, 1, 0)\n",
    "df['over_50'] = np.where(df['age'] >= 50, 1, 0)\n",
    "df['over_60'] = np.where(df['age'] >= 60, 1, 0)\n",
    "df['over_70'] = np.where(df['age'] >= 70, 1, 0)\n",
    "# Those with very large capital gains\n",
    "df['high_gains'] = np.where(df['capital-gain'] > 5000, 1, 0)\n",
    "# Feature to identify that the native country is not the United States\n",
    "df['immigrant'] = np.where(df['native-country'] != ' United-States', 1, 0)"
   ]
  },
  {
   "cell_type": "code",
   "execution_count": 12,
   "metadata": {},
   "outputs": [],
   "source": [
    "# Dummifying the categorical data\n",
    "df_dum = pd.get_dummies(df,columns=df.select_dtypes('object').columns,drop_first=True)"
   ]
  },
  {
   "cell_type": "markdown",
   "metadata": {},
   "source": [
    "## Modeling"
   ]
  },
  {
   "cell_type": "code",
   "execution_count": 13,
   "metadata": {},
   "outputs": [],
   "source": [
    "# Setting up train test split\n",
    "X = df_dum.drop(columns=['target'],axis=1)\n",
    "y = df_dum['target']\n",
    "\n",
    "X_train, X_test, y_train, y_test = train_test_split(X,y,random_state=42,stratify=y)"
   ]
  },
  {
   "cell_type": "code",
   "execution_count": 14,
   "metadata": {},
   "outputs": [],
   "source": [
    "# Initializing the dictionary to keep parameters and performance and the count to name each row\n",
    "model_params = {}\n",
    "count = 0"
   ]
  },
  {
   "cell_type": "code",
   "execution_count": 15,
   "metadata": {},
   "outputs": [
    {
     "name": "stdout",
     "output_type": "stream",
     "text": [
      "Fitting 5 folds for each of 1 candidates, totalling 5 fits\n"
     ]
    },
    {
     "name": "stderr",
     "output_type": "stream",
     "text": [
      "[Parallel(n_jobs=4)]: Using backend LokyBackend with 4 concurrent workers.\n",
      "[Parallel(n_jobs=4)]: Done   5 out of   5 | elapsed:    6.4s finished\n"
     ]
    },
    {
     "name": "stdout",
     "output_type": "stream",
     "text": [
      "Run time: 9.39099383354187\n"
     ]
    },
    {
     "data": {
      "text/html": [
       "<div>\n",
       "<style scoped>\n",
       "    .dataframe tbody tr th:only-of-type {\n",
       "        vertical-align: middle;\n",
       "    }\n",
       "\n",
       "    .dataframe tbody tr th {\n",
       "        vertical-align: top;\n",
       "    }\n",
       "\n",
       "    .dataframe thead th {\n",
       "        text-align: right;\n",
       "    }\n",
       "</style>\n",
       "<table border=\"1\" class=\"dataframe\">\n",
       "  <thead>\n",
       "    <tr style=\"text-align: right;\">\n",
       "      <th></th>\n",
       "      <th>rf__bootstrap</th>\n",
       "      <th>rf__ccp_alpha</th>\n",
       "      <th>rf__class_weight</th>\n",
       "      <th>rf__criterion</th>\n",
       "      <th>rf__max_depth</th>\n",
       "      <th>rf__max_features</th>\n",
       "      <th>rf__max_leaf_nodes</th>\n",
       "      <th>rf__max_samples</th>\n",
       "      <th>rf__min_impurity_decrease</th>\n",
       "      <th>rf__min_samples_leaf</th>\n",
       "      <th>rf__min_samples_split</th>\n",
       "      <th>rf__min_weight_fraction_leaf</th>\n",
       "      <th>rf__n_estimators</th>\n",
       "      <th>rf__oob_score</th>\n",
       "      <th>rf__random_state</th>\n",
       "      <th>rf__warm_start</th>\n",
       "      <th>score</th>\n",
       "    </tr>\n",
       "  </thead>\n",
       "  <tbody>\n",
       "    <tr>\n",
       "      <th>model_1</th>\n",
       "      <td>True</td>\n",
       "      <td>0.001</td>\n",
       "      <td>None</td>\n",
       "      <td>entropy</td>\n",
       "      <td>40</td>\n",
       "      <td>75</td>\n",
       "      <td>None</td>\n",
       "      <td>0.3</td>\n",
       "      <td>0.0</td>\n",
       "      <td>1</td>\n",
       "      <td>5</td>\n",
       "      <td>0.0</td>\n",
       "      <td>60</td>\n",
       "      <td>True</td>\n",
       "      <td>42</td>\n",
       "      <td>True</td>\n",
       "      <td>0.863882</td>\n",
       "    </tr>\n",
       "  </tbody>\n",
       "</table>\n",
       "</div>"
      ],
      "text/plain": [
       "         rf__bootstrap  rf__ccp_alpha rf__class_weight rf__criterion  \\\n",
       "model_1           True          0.001             None       entropy   \n",
       "\n",
       "         rf__max_depth  rf__max_features rf__max_leaf_nodes  rf__max_samples  \\\n",
       "model_1             40                75               None              0.3   \n",
       "\n",
       "         rf__min_impurity_decrease  rf__min_samples_leaf  \\\n",
       "model_1                        0.0                     1   \n",
       "\n",
       "         rf__min_samples_split  rf__min_weight_fraction_leaf  \\\n",
       "model_1                      5                           0.0   \n",
       "\n",
       "         rf__n_estimators  rf__oob_score  rf__random_state  rf__warm_start  \\\n",
       "model_1                60           True                42            True   \n",
       "\n",
       "            score  \n",
       "model_1  0.863882  "
      ]
     },
     "execution_count": 15,
     "metadata": {},
     "output_type": "execute_result"
    }
   ],
   "source": [
    "t0 = time.time() # initial time\n",
    "\n",
    "pipe = Pipeline([\n",
    "    ('rf', RandomForestClassifier()) # Old pipe scaffolding for flexibility if another processing ever needs to be added in\n",
    "    \n",
    "])\n",
    "\n",
    "pipe_params = {\n",
    "    'rf__n_estimators':[60], # Did not see improvement over or under 60\n",
    "    'rf__criterion':['entropy'], # Entropy appeared to perform better than gini\n",
    "    'rf__max_depth':[40], # Did not see improvement over or under 40\n",
    "    'rf__min_samples_split':[5], # 5 showed some performance improvement\n",
    "    'rf__min_samples_leaf':[1], # Default appeared to work best\n",
    "    'rf__min_weight_fraction_leaf':[0.0],\n",
    "    'rf__max_features':[75], # Seems to like 75 as opposed to auto and not other values\n",
    "    'rf__max_leaf_nodes':[None], # Could not get increase\n",
    "    'rf__min_impurity_decrease':[0.0], # Could not get increase\n",
    "    'rf__bootstrap':[True], # Bootstrapping for improved accuracy\n",
    "    'rf__oob_score':[True], # Changed to true after performance increase\n",
    "    'rf__random_state':[42], # selected random state to see performance change\n",
    "    'rf__warm_start':[True], # Changed to true after performance increase\n",
    "    'rf__class_weight':[None], # balanced and balanced_subsample did not improve performance\n",
    "    'rf__ccp_alpha':[0.001], # 0.001 always seems to be the optimal value\n",
    "    'rf__max_samples':[0.3] # 0.3 provided a small increase in performance\n",
    "}\n",
    "\n",
    "gs = GridSearchCV(pipe, # format kept for convertability\n",
    "                  param_grid=pipe_params, # parameters being passed into our model\n",
    "                  cv=5, # 5-fold cross-validation.\n",
    "                  n_jobs=4, # use four threads\n",
    "                  verbose = 2) # get more feedback while running the model\n",
    "\n",
    "gs.fit(X_train, y_train) # Fitting the data\n",
    "\n",
    "\n",
    "print(f'Run time: {time.time()-t0}') # Print total run time\n",
    "\n",
    "count += 1 # Changing the count to name the model in the parameter dictionary\n",
    "\n",
    "# Constructing a dictionary to store parameters selected and results\n",
    "gs.best_params_['score'] = gs.best_score_\n",
    "model_params[f'model_{count}'] = gs.best_params_\n",
    "model_df = pd.DataFrame.from_dict(model_params,orient='index')\n",
    "model_df # Show the dataframe of hyper parameters and performance"
   ]
  },
  {
   "cell_type": "code",
   "execution_count": 16,
   "metadata": {},
   "outputs": [
    {
     "name": "stdout",
     "output_type": "stream",
     "text": [
      "Random Forest Classifier Training Accuracy: 0.866994266994267\n",
      "\n",
      "Random Forest Classifier Testing Accuracy: 0.8669696597469598\n",
      "\n"
     ]
    }
   ],
   "source": [
    "# Print our last scores of Training and Test Accuracy\n",
    "print(f'Random Forest Classifier Training Accuracy: {gs.score(X_train, y_train)}\\n')\n",
    "print(f'Random Forest Classifier Testing Accuracy: {gs.score(X_test, y_test)}\\n')"
   ]
  },
  {
   "cell_type": "code",
   "execution_count": 17,
   "metadata": {},
   "outputs": [
    {
     "data": {
      "image/png": "[encoded data removed]",
      "text/plain": [
       "<Figure size 432x288 with 2 Axes>"
      ]
     },
     "metadata": {
      "needs_background": "light"
     },
     "output_type": "display_data"
    }
   ],
   "source": [
    "# Create our predictions on the test data\n",
    "preds = gs.predict(X_test)\n",
    "\n",
    "# Save confusion matrix values.\n",
    "tn, fp, fn, tp = confusion_matrix(y_test, preds).ravel()\n",
    "\n",
    "# Show the confusion matrix for the model.\n",
    "\n",
    "plot_confusion_matrix(gs, X_test, y_test, cmap='Blues', values_format='d')\n",
    "plt.title('Random Forest Classifier')\n",
    "plt.xlabel('Predicted',size=15)\n",
    "plt.ylabel('Actual',size=15)\n",
    "plt.xticks(ticks=[0,1],labels=['Predicted Below 50', 'Predicted Above 50'])\n",
    "plt.yticks(ticks=[0,1],labels=['Actual Below 50', 'Actual Above 50'])\n",
    "plt.savefig('images/confusion_matrix.png',format='png') # Save the figure for later use\n",
    "plt.show();"
   ]
  },
  {
   "cell_type": "markdown",
   "metadata": {},
   "source": [
    "## Creating the Submission"
   ]
  },
  {
   "cell_type": "code",
   "execution_count": 18,
   "metadata": {},
   "outputs": [],
   "source": [
    "# Read in the test data to create a submission\n",
    "test_data = pd.read_csv('data/test_data.csv')"
   ]
  },
  {
   "cell_type": "code",
   "execution_count": 19,
   "metadata": {},
   "outputs": [
    {
     "name": "stdout",
     "output_type": "stream",
     "text": [
      "<class 'pandas.core.frame.DataFrame'>\n",
      "RangeIndex: 16281 entries, 0 to 16280\n",
      "Data columns (total 13 columns):\n",
      " #   Column          Non-Null Count  Dtype \n",
      "---  ------          --------------  ----- \n",
      " 0   age             16281 non-null  int64 \n",
      " 1   workclass       16281 non-null  object\n",
      " 2   fnlwgt          16281 non-null  int64 \n",
      " 3   education       16281 non-null  object\n",
      " 4   education-num   16281 non-null  int64 \n",
      " 5   marital-status  16281 non-null  object\n",
      " 6   occupation      16281 non-null  object\n",
      " 7   relationship    16281 non-null  object\n",
      " 8   sex             16281 non-null  object\n",
      " 9   capital-gain    16281 non-null  int64 \n",
      " 10  capital-loss    16281 non-null  int64 \n",
      " 11  hours-per-week  16281 non-null  int64 \n",
      " 12  native-country  16281 non-null  object\n",
      "dtypes: int64(6), object(7)\n",
      "memory usage: 1.6+ MB\n"
     ]
    }
   ],
   "source": [
    "test_data.info()"
   ]
  },
  {
   "cell_type": "code",
   "execution_count": 20,
   "metadata": {},
   "outputs": [],
   "source": [
    "# Create a function to create the features using the training criteria\n",
    "def add_binary_test(df_train,df_test,header,column,threshold):\n",
    "        scores = df_train.groupby(df[column]).mean()\n",
    "        good_status = scores[scores['target'] > threshold].index\n",
    "        df_test[header] = df_test[column].map(lambda x: 1 if x in good_status else 0)\n",
    "        return print(f'Added {header} column')"
   ]
  },
  {
   "cell_type": "code",
   "execution_count": 21,
   "metadata": {},
   "outputs": [],
   "source": [
    "# Processing the features of the test data\n",
    "def process_test_data(df_train,df_test):\n",
    "    add_binary_test(df_train,df_test,'educated','education',0.24)\n",
    "    add_binary_test(df_train,df_test,'good_country','native-country',0.25)\n",
    "    add_binary_test(df_train,df_test,'is_married','marital-status',0.4)\n",
    "    add_binary_test(df_train,df_test,'is_spouse','relationship',0.4)\n",
    "    add_binary_test(df_train,df_test,'high_class','workclass',0.25)\n",
    "    add_binary_test(df_train,df_test,'good_job','occupation',0.25)\n",
    "    df_test['in_market'] = np.where((df_test['capital-gain'] > 0) | (df_test['capital-loss'] > 0), 1, 0)\n",
    "    df_test['has_gains'] = np.where(df_test['capital-gain'] > 0, 1, 0)\n",
    "    df_test['has_losses'] = np.where(df_test['capital-loss'] > 0, 1, 0)\n",
    "    df_test['over_time'] = np.where(df_test['hours-per-week'] > 40, 1, 0)\n",
    "    df_test['part_time'] = np.where(df_test['hours-per-week'] < 40, 1, 0)\n",
    "    df_test['higher_ed'] = np.where(df_test['education-num'] >= 13, 1, 0)\n",
    "    df_test['over_20'] = np.where(df_test['age'] >= 20, 1, 0)\n",
    "    df_test['over_30'] = np.where(df_test['age'] >= 30, 1, 0)\n",
    "    df_test['over_40'] = np.where(df_test['age'] >= 40, 1, 0)\n",
    "    df_test['over_50'] = np.where(df_test['age'] >= 50, 1, 0)\n",
    "    df_test['over_60'] = np.where(df_test['age'] >= 60, 1, 0)\n",
    "    df_test['over_70'] = np.where(df_test['age'] >= 70, 1, 0)\n",
    "    df_test['high_gains'] = np.where(df_test['capital-gain'] > 5000, 1, 0)\n",
    "    df_test['immigrant'] = np.where(df_test['native-country'] != ' United-States', 1, 0)\n",
    "    return pd.get_dummies(df_test,columns=df_test.select_dtypes('object').columns,drop_first=True)"
   ]
  },
  {
   "cell_type": "code",
   "execution_count": 22,
   "metadata": {},
   "outputs": [
    {
     "name": "stdout",
     "output_type": "stream",
     "text": [
      "Added educated column\n",
      "Added good_country column\n",
      "Added is_married column\n",
      "Added is_spouse column\n",
      "Added high_class column\n",
      "Added good_job column\n"
     ]
    }
   ],
   "source": [
    "# Running the function to process the test data\n",
    "final_test = process_test_data(df, test_data)"
   ]
  },
  {
   "cell_type": "code",
   "execution_count": 23,
   "metadata": {},
   "outputs": [
    {
     "data": {
      "text/plain": [
       "(16281, 115)"
      ]
     },
     "execution_count": 23,
     "metadata": {},
     "output_type": "execute_result"
    }
   ],
   "source": [
    "# Checking the shape of the test data\n",
    "final_test.shape"
   ]
  },
  {
   "cell_type": "code",
   "execution_count": 24,
   "metadata": {},
   "outputs": [],
   "source": [
    "# Making sure the test data has all the required columns to be used in the model we created\n",
    "missing_columns_train = list(set(X_test.columns) - set(final_test.columns))\n",
    "\n",
    "for col in missing_columns_train:\n",
    "    final_test[col] = 0\n",
    "final_test = final_test[X_test.columns]"
   ]
  },
  {
   "cell_type": "code",
   "execution_count": 25,
   "metadata": {},
   "outputs": [],
   "source": [
    "# Creating our submission predictions while naming the column 'wage'\n",
    "submit = pd.DataFrame(gs.predict(final_test)).rename(columns={0:'wage'})"
   ]
  },
  {
   "cell_type": "code",
   "execution_count": 26,
   "metadata": {},
   "outputs": [],
   "source": [
    "# Saving our submission predictions to a csv without the index saved\n",
    "submit.to_csv('submission/submission.csv',index=False)"
   ]
  },
  {
   "cell_type": "code",
   "execution_count": 27,
   "metadata": {},
   "outputs": [
    {
     "data": {
      "text/html": [
       "<div>\n",
       "<style scoped>\n",
       "    .dataframe tbody tr th:only-of-type {\n",
       "        vertical-align: middle;\n",
       "    }\n",
       "\n",
       "    .dataframe tbody tr th {\n",
       "        vertical-align: top;\n",
       "    }\n",
       "\n",
       "    .dataframe thead th {\n",
       "        text-align: right;\n",
       "    }\n",
       "</style>\n",
       "<table border=\"1\" class=\"dataframe\">\n",
       "  <thead>\n",
       "    <tr style=\"text-align: right;\">\n",
       "      <th></th>\n",
       "      <th>wage</th>\n",
       "    </tr>\n",
       "  </thead>\n",
       "  <tbody>\n",
       "    <tr>\n",
       "      <th>0</th>\n",
       "      <td>0</td>\n",
       "    </tr>\n",
       "    <tr>\n",
       "      <th>1</th>\n",
       "      <td>0</td>\n",
       "    </tr>\n",
       "    <tr>\n",
       "      <th>2</th>\n",
       "      <td>0</td>\n",
       "    </tr>\n",
       "    <tr>\n",
       "      <th>3</th>\n",
       "      <td>1</td>\n",
       "    </tr>\n",
       "    <tr>\n",
       "      <th>4</th>\n",
       "      <td>0</td>\n",
       "    </tr>\n",
       "    <tr>\n",
       "      <th>...</th>\n",
       "      <td>...</td>\n",
       "    </tr>\n",
       "    <tr>\n",
       "      <th>16276</th>\n",
       "      <td>0</td>\n",
       "    </tr>\n",
       "    <tr>\n",
       "      <th>16277</th>\n",
       "      <td>0</td>\n",
       "    </tr>\n",
       "    <tr>\n",
       "      <th>16278</th>\n",
       "      <td>1</td>\n",
       "    </tr>\n",
       "    <tr>\n",
       "      <th>16279</th>\n",
       "      <td>0</td>\n",
       "    </tr>\n",
       "    <tr>\n",
       "      <th>16280</th>\n",
       "      <td>1</td>\n",
       "    </tr>\n",
       "  </tbody>\n",
       "</table>\n",
       "<p>16281 rows × 1 columns</p>\n",
       "</div>"
      ],
      "text/plain": [
       "       wage\n",
       "0         0\n",
       "1         0\n",
       "2         0\n",
       "3         1\n",
       "4         0\n",
       "...     ...\n",
       "16276     0\n",
       "16277     0\n",
       "16278     1\n",
       "16279     0\n",
       "16280     1\n",
       "\n",
       "[16281 rows x 1 columns]"
      ]
     },
     "execution_count": 27,
     "metadata": {},
     "output_type": "execute_result"
    }
   ],
   "source": [
    "# Reading our submission file in check that it saved properly\n",
    "checking = pd.read_csv('submission/submission.csv')\n",
    "checking"
   ]
  }
 ],
 "metadata": {
  "kernelspec": {
   "display_name": "Python 3",
   "language": "python",
   "name": "python3"
  },
  "language_info": {
   "codemirror_mode": {
    "name": "ipython",
    "version": 3
   },
   "file_extension": ".py",
   "mimetype": "text/x-python",
   "name": "python",
   "nbconvert_exporter": "python",
   "pygments_lexer": "ipython3",
   "version": "3.7.7"
  }
 },
 "nbformat": 4,
 "nbformat_minor": 4
}
